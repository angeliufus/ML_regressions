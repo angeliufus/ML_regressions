{
 "cells": [
  {
   "cell_type": "markdown",
   "id": "35bf1844",
   "metadata": {},
   "source": [
    "- #### Exercicis per practicar amb regressions."
   ]
  },
  {
   "cell_type": "markdown",
   "id": "be16cdc0",
   "metadata": {},
   "source": [
    "## Exercici 1"
   ]
  },
  {
   "cell_type": "markdown",
   "id": "7e3eda44",
   "metadata": {},
   "source": [
    "- #### Crea almenys dos models de regressió diferents per intentar predir el millor possible el preu de les vivendes (MEDV) de l'arxiu adjunt.\n",
    "\n"
   ]
  },
  {
   "cell_type": "code",
   "execution_count": 1,
   "id": "4545d1b6",
   "metadata": {},
   "outputs": [],
   "source": [
    "import numpy as np\n",
    "import pandas as pd\n",
    "import seaborn as sns\n",
    "import matplotlib.pyplot as plt\n",
    "from scipy import stats\n",
    "from sklearn import preprocessing\n",
    "from sklearn.model_selection import train_test_split,cross_val_score, GridSearchCV, KFold, RandomizedSearchCV \n",
    "from sklearn.linear_model import LinearRegression\n",
    "from sklearn.preprocessing import OneHotEncoder \n",
    "from sklearn.preprocessing import PolynomialFeatures\n",
    "from sklearn.metrics import r2_score, mean_squared_error\n",
    "from sklearn.tree import DecisionTreeRegressor\n",
    "from sklearn.ensemble import RandomForestRegressor\n",
    "\n",
    "\n",
    "\n",
    "\n",
    "import warnings\n",
    "warnings.filterwarnings(\"ignore\")\n",
    "\n"
   ]
  },
  {
   "cell_type": "markdown",
   "id": "299b3277",
   "metadata": {},
   "source": [
    "## 1.1 Estudi i anàlisi de la Base de dades"
   ]
  },
  {
   "cell_type": "code",
   "execution_count": 2,
   "id": "5a49982b",
   "metadata": {},
   "outputs": [
    {
     "data": {
      "text/html": [
       "<div>\n",
       "<style scoped>\n",
       "    .dataframe tbody tr th:only-of-type {\n",
       "        vertical-align: middle;\n",
       "    }\n",
       "\n",
       "    .dataframe tbody tr th {\n",
       "        vertical-align: top;\n",
       "    }\n",
       "\n",
       "    .dataframe thead th {\n",
       "        text-align: right;\n",
       "    }\n",
       "</style>\n",
       "<table border=\"1\" class=\"dataframe\">\n",
       "  <thead>\n",
       "    <tr style=\"text-align: right;\">\n",
       "      <th></th>\n",
       "      <th>CRIM</th>\n",
       "      <th>ZN</th>\n",
       "      <th>INDUS</th>\n",
       "      <th>CHAS</th>\n",
       "      <th>NOX</th>\n",
       "      <th>RM</th>\n",
       "      <th>AGE</th>\n",
       "      <th>DIS</th>\n",
       "      <th>RAD</th>\n",
       "      <th>TAX</th>\n",
       "      <th>PTRATIO</th>\n",
       "      <th>B</th>\n",
       "      <th>LSTAT</th>\n",
       "      <th>MEDV</th>\n",
       "    </tr>\n",
       "  </thead>\n",
       "  <tbody>\n",
       "    <tr>\n",
       "      <th>0</th>\n",
       "      <td>0.00632</td>\n",
       "      <td>18.0</td>\n",
       "      <td>2.31</td>\n",
       "      <td>0</td>\n",
       "      <td>0.538</td>\n",
       "      <td>6.575</td>\n",
       "      <td>65.2</td>\n",
       "      <td>4.0900</td>\n",
       "      <td>1</td>\n",
       "      <td>296.0</td>\n",
       "      <td>15.3</td>\n",
       "      <td>396.90</td>\n",
       "      <td>4.98</td>\n",
       "      <td>24.0</td>\n",
       "    </tr>\n",
       "    <tr>\n",
       "      <th>1</th>\n",
       "      <td>0.02731</td>\n",
       "      <td>0.0</td>\n",
       "      <td>7.07</td>\n",
       "      <td>0</td>\n",
       "      <td>0.469</td>\n",
       "      <td>6.421</td>\n",
       "      <td>78.9</td>\n",
       "      <td>4.9671</td>\n",
       "      <td>2</td>\n",
       "      <td>242.0</td>\n",
       "      <td>17.8</td>\n",
       "      <td>396.90</td>\n",
       "      <td>9.14</td>\n",
       "      <td>21.6</td>\n",
       "    </tr>\n",
       "    <tr>\n",
       "      <th>2</th>\n",
       "      <td>0.02729</td>\n",
       "      <td>0.0</td>\n",
       "      <td>7.07</td>\n",
       "      <td>0</td>\n",
       "      <td>0.469</td>\n",
       "      <td>7.185</td>\n",
       "      <td>61.1</td>\n",
       "      <td>4.9671</td>\n",
       "      <td>2</td>\n",
       "      <td>242.0</td>\n",
       "      <td>17.8</td>\n",
       "      <td>392.83</td>\n",
       "      <td>4.03</td>\n",
       "      <td>34.7</td>\n",
       "    </tr>\n",
       "    <tr>\n",
       "      <th>3</th>\n",
       "      <td>0.03237</td>\n",
       "      <td>0.0</td>\n",
       "      <td>2.18</td>\n",
       "      <td>0</td>\n",
       "      <td>0.458</td>\n",
       "      <td>6.998</td>\n",
       "      <td>45.8</td>\n",
       "      <td>6.0622</td>\n",
       "      <td>3</td>\n",
       "      <td>222.0</td>\n",
       "      <td>18.7</td>\n",
       "      <td>394.63</td>\n",
       "      <td>2.94</td>\n",
       "      <td>33.4</td>\n",
       "    </tr>\n",
       "    <tr>\n",
       "      <th>4</th>\n",
       "      <td>0.06905</td>\n",
       "      <td>0.0</td>\n",
       "      <td>2.18</td>\n",
       "      <td>0</td>\n",
       "      <td>0.458</td>\n",
       "      <td>7.147</td>\n",
       "      <td>54.2</td>\n",
       "      <td>6.0622</td>\n",
       "      <td>3</td>\n",
       "      <td>222.0</td>\n",
       "      <td>18.7</td>\n",
       "      <td>396.90</td>\n",
       "      <td>5.33</td>\n",
       "      <td>36.2</td>\n",
       "    </tr>\n",
       "  </tbody>\n",
       "</table>\n",
       "</div>"
      ],
      "text/plain": [
       "      CRIM    ZN  INDUS  CHAS    NOX     RM   AGE     DIS  RAD    TAX  \\\n",
       "0  0.00632  18.0   2.31     0  0.538  6.575  65.2  4.0900    1  296.0   \n",
       "1  0.02731   0.0   7.07     0  0.469  6.421  78.9  4.9671    2  242.0   \n",
       "2  0.02729   0.0   7.07     0  0.469  7.185  61.1  4.9671    2  242.0   \n",
       "3  0.03237   0.0   2.18     0  0.458  6.998  45.8  6.0622    3  222.0   \n",
       "4  0.06905   0.0   2.18     0  0.458  7.147  54.2  6.0622    3  222.0   \n",
       "\n",
       "   PTRATIO       B  LSTAT  MEDV  \n",
       "0     15.3  396.90   4.98  24.0  \n",
       "1     17.8  396.90   9.14  21.6  \n",
       "2     17.8  392.83   4.03  34.7  \n",
       "3     18.7  394.63   2.94  33.4  \n",
       "4     18.7  396.90   5.33  36.2  "
      ]
     },
     "execution_count": 2,
     "metadata": {},
     "output_type": "execute_result"
    }
   ],
   "source": [
    "# Llegeixo el dataframe\n",
    "HousingBoston = pd.read_csv('/Users/angelssastrenadal/Downloads/housing_data.csv', header=None)\n",
    "HousingBoston.columns = ['CRIM', 'ZN', 'INDUS', 'CHAS', 'NOX', 'RM', 'AGE', 'DIS', 'RAD', 'TAX', 'PTRATIO', 'B', 'LSTAT', 'MEDV']\n",
    "#Li assigno el nom de columnes segons info al .txt\n",
    "HousingBoston.head()\n"
   ]
  },
  {
   "cell_type": "markdown",
   "id": "730e54fa",
   "metadata": {},
   "source": [
    "Donat que en l'exercici anterior ja hem vist que no hi ha nuls, nans o duplicats i que tenim la info del database:\n",
    "- CRIM — per capita crime rate by town\n",
    "- ZN — proportion of residential land zoned for lots over 25,000 sq.ft.\n",
    "- INDUS — proportion of non-retail business acres per town.\n",
    "- CHAS — Charles River dummy variable (1 if tract bounds river; 0 otherwise)\n",
    "- NOX — nitric oxides concentration (parts per 10 million)\n",
    "- RM — average number of rooms per dwelling\n",
    "- AGE — proportion of owner-occupied units built prior to 1940\n",
    "- DIS — weighted distances to five Boston employment centres\n",
    "- RAD — index of accessibility to radial highways\n",
    "- TAX — full-value property-tax rate per 10000 USD\n",
    "- PTRATIO — pupil-teacher ratio by town\n",
    "- B  — One Thousand(Bk — 0.63)² where Bk is the proportion of blacks by town\n",
    "- LSTAT — Percentage lower status of the population\n",
    "- MEDV — Median value of owner-occupied homes in 1000 USD\n",
    "______________________________________________\n",
    "\n",
    "- CRIM es compte amb un index entre 0,01 i 88,98 veiem que el 75% dels barris el rati de criminalitat es baixa, amb el 75% de la mostra amb menys de 3,68\n",
    "- ZN Els terrenys de mes de 25000 peus cuadrats son el 11,36% de mitja\n",
    "- RM La mitja d'habitacions es molt alta 6,28\n",
    "- PTRATIO El nombre d'alumnes per professor es troba entre 12,6 i 22, em sembla baix\n",
    "- B Em sorprén que tinguin en compte com indicador, la proporció de la població negre. \n",
    "- El valor mig de vivendes MEDV es troba entre 5000 i 50000\n",
    "-**Variables categòriques:**\n",
    "- El paràmetre CHAS(prop del riu Charles o no) es binari, per tant s'ha de tractar diferent a la resta:\n",
    "\"dummy variable (1 if tract bounds river; 0 otherwise)\"\n",
    "- També RAD \"(index d'accés a autopistes radials)\". \n",
    "\n",
    "Veure exercici anterior a github per referencia: [M5 T02](https://github.com/angeliufus/SkLearn_Train_Test/blob/main/TASCA%20M5%20T02.ipynb). On hem fet una neteja previa de la bdd i hem vist que RAD i CHAS son categoriques, no ni ha nulls i nans ni duplicats.\n",
    "També hem vist que les variables no son normalment distribuides i que 'CRIM', 'ZN', 'RM', 'DIS', 'PTRATIO', 'B', 'LSTAT' i 'MEDV'tenien outliers."
   ]
  },
  {
   "cell_type": "code",
   "execution_count": 3,
   "id": "46d709d2",
   "metadata": {},
   "outputs": [
    {
     "data": {
      "text/plain": [
       "<seaborn.axisgrid.FacetGrid at 0x7f782481ea60>"
      ]
     },
     "execution_count": 3,
     "metadata": {},
     "output_type": "execute_result"
    },
    {
     "data": {
      "image/png": "[encoded data removed]",
      "text/plain": [
       "<Figure size 360x360 with 1 Axes>"
      ]
     },
     "metadata": {
      "needs_background": "light"
     },
     "output_type": "display_data"
    }
   ],
   "source": [
    "#Mirem de nou la distribució gràfica de MEDV:\n",
    "sns.displot(data=HousingBoston, x=\"MEDV\", kde=True)"
   ]
  },
  {
   "cell_type": "code",
   "execution_count": 4,
   "id": "dbf962f7",
   "metadata": {},
   "outputs": [
    {
     "data": {
      "text/html": [
       "<div>\n",
       "<style scoped>\n",
       "    .dataframe tbody tr th:only-of-type {\n",
       "        vertical-align: middle;\n",
       "    }\n",
       "\n",
       "    .dataframe tbody tr th {\n",
       "        vertical-align: top;\n",
       "    }\n",
       "\n",
       "    .dataframe thead th {\n",
       "        text-align: right;\n",
       "    }\n",
       "</style>\n",
       "<table border=\"1\" class=\"dataframe\">\n",
       "  <thead>\n",
       "    <tr style=\"text-align: right;\">\n",
       "      <th></th>\n",
       "      <th>CRIM</th>\n",
       "      <th>ZN</th>\n",
       "      <th>INDUS</th>\n",
       "      <th>CHAS</th>\n",
       "      <th>NOX</th>\n",
       "      <th>RM</th>\n",
       "      <th>AGE</th>\n",
       "      <th>DIS</th>\n",
       "      <th>TAX</th>\n",
       "      <th>PTRATIO</th>\n",
       "      <th>...</th>\n",
       "      <th>MEDV</th>\n",
       "      <th>RAD_1</th>\n",
       "      <th>RAD_2</th>\n",
       "      <th>RAD_3</th>\n",
       "      <th>RAD_4</th>\n",
       "      <th>RAD_5</th>\n",
       "      <th>RAD_6</th>\n",
       "      <th>RAD_7</th>\n",
       "      <th>RAD_8</th>\n",
       "      <th>RAD_24</th>\n",
       "    </tr>\n",
       "  </thead>\n",
       "  <tbody>\n",
       "    <tr>\n",
       "      <th>0</th>\n",
       "      <td>0.00632</td>\n",
       "      <td>18.0</td>\n",
       "      <td>2.31</td>\n",
       "      <td>0</td>\n",
       "      <td>0.538</td>\n",
       "      <td>6.575</td>\n",
       "      <td>65.2</td>\n",
       "      <td>4.0900</td>\n",
       "      <td>296.0</td>\n",
       "      <td>15.3</td>\n",
       "      <td>...</td>\n",
       "      <td>24.0</td>\n",
       "      <td>1</td>\n",
       "      <td>0</td>\n",
       "      <td>0</td>\n",
       "      <td>0</td>\n",
       "      <td>0</td>\n",
       "      <td>0</td>\n",
       "      <td>0</td>\n",
       "      <td>0</td>\n",
       "      <td>0</td>\n",
       "    </tr>\n",
       "    <tr>\n",
       "      <th>1</th>\n",
       "      <td>0.02731</td>\n",
       "      <td>0.0</td>\n",
       "      <td>7.07</td>\n",
       "      <td>0</td>\n",
       "      <td>0.469</td>\n",
       "      <td>6.421</td>\n",
       "      <td>78.9</td>\n",
       "      <td>4.9671</td>\n",
       "      <td>242.0</td>\n",
       "      <td>17.8</td>\n",
       "      <td>...</td>\n",
       "      <td>21.6</td>\n",
       "      <td>0</td>\n",
       "      <td>1</td>\n",
       "      <td>0</td>\n",
       "      <td>0</td>\n",
       "      <td>0</td>\n",
       "      <td>0</td>\n",
       "      <td>0</td>\n",
       "      <td>0</td>\n",
       "      <td>0</td>\n",
       "    </tr>\n",
       "    <tr>\n",
       "      <th>2</th>\n",
       "      <td>0.02729</td>\n",
       "      <td>0.0</td>\n",
       "      <td>7.07</td>\n",
       "      <td>0</td>\n",
       "      <td>0.469</td>\n",
       "      <td>7.185</td>\n",
       "      <td>61.1</td>\n",
       "      <td>4.9671</td>\n",
       "      <td>242.0</td>\n",
       "      <td>17.8</td>\n",
       "      <td>...</td>\n",
       "      <td>34.7</td>\n",
       "      <td>0</td>\n",
       "      <td>1</td>\n",
       "      <td>0</td>\n",
       "      <td>0</td>\n",
       "      <td>0</td>\n",
       "      <td>0</td>\n",
       "      <td>0</td>\n",
       "      <td>0</td>\n",
       "      <td>0</td>\n",
       "    </tr>\n",
       "    <tr>\n",
       "      <th>3</th>\n",
       "      <td>0.03237</td>\n",
       "      <td>0.0</td>\n",
       "      <td>2.18</td>\n",
       "      <td>0</td>\n",
       "      <td>0.458</td>\n",
       "      <td>6.998</td>\n",
       "      <td>45.8</td>\n",
       "      <td>6.0622</td>\n",
       "      <td>222.0</td>\n",
       "      <td>18.7</td>\n",
       "      <td>...</td>\n",
       "      <td>33.4</td>\n",
       "      <td>0</td>\n",
       "      <td>0</td>\n",
       "      <td>1</td>\n",
       "      <td>0</td>\n",
       "      <td>0</td>\n",
       "      <td>0</td>\n",
       "      <td>0</td>\n",
       "      <td>0</td>\n",
       "      <td>0</td>\n",
       "    </tr>\n",
       "    <tr>\n",
       "      <th>4</th>\n",
       "      <td>0.06905</td>\n",
       "      <td>0.0</td>\n",
       "      <td>2.18</td>\n",
       "      <td>0</td>\n",
       "      <td>0.458</td>\n",
       "      <td>7.147</td>\n",
       "      <td>54.2</td>\n",
       "      <td>6.0622</td>\n",
       "      <td>222.0</td>\n",
       "      <td>18.7</td>\n",
       "      <td>...</td>\n",
       "      <td>36.2</td>\n",
       "      <td>0</td>\n",
       "      <td>0</td>\n",
       "      <td>1</td>\n",
       "      <td>0</td>\n",
       "      <td>0</td>\n",
       "      <td>0</td>\n",
       "      <td>0</td>\n",
       "      <td>0</td>\n",
       "      <td>0</td>\n",
       "    </tr>\n",
       "  </tbody>\n",
       "</table>\n",
       "<p>5 rows × 22 columns</p>\n",
       "</div>"
      ],
      "text/plain": [
       "      CRIM    ZN  INDUS  CHAS    NOX     RM   AGE     DIS    TAX  PTRATIO  \\\n",
       "0  0.00632  18.0   2.31     0  0.538  6.575  65.2  4.0900  296.0     15.3   \n",
       "1  0.02731   0.0   7.07     0  0.469  6.421  78.9  4.9671  242.0     17.8   \n",
       "2  0.02729   0.0   7.07     0  0.469  7.185  61.1  4.9671  242.0     17.8   \n",
       "3  0.03237   0.0   2.18     0  0.458  6.998  45.8  6.0622  222.0     18.7   \n",
       "4  0.06905   0.0   2.18     0  0.458  7.147  54.2  6.0622  222.0     18.7   \n",
       "\n",
       "   ...  MEDV  RAD_1  RAD_2  RAD_3  RAD_4  RAD_5  RAD_6  RAD_7  RAD_8  RAD_24  \n",
       "0  ...  24.0      1      0      0      0      0      0      0      0       0  \n",
       "1  ...  21.6      0      1      0      0      0      0      0      0       0  \n",
       "2  ...  34.7      0      1      0      0      0      0      0      0       0  \n",
       "3  ...  33.4      0      0      1      0      0      0      0      0       0  \n",
       "4  ...  36.2      0      0      1      0      0      0      0      0       0  \n",
       "\n",
       "[5 rows x 22 columns]"
      ]
     },
     "execution_count": 4,
     "metadata": {},
     "output_type": "execute_result"
    }
   ],
   "source": [
    "#Com hem vist en l'exercici anterior la variable RAD es categorica i no està dumificada\n",
    "#Per tant la dumifiquem abans de preprocessar les dades\n",
    "HousingBoston_transf = pd.get_dummies(data = HousingBoston, columns= ['RAD'])\n",
    "HousingBoston_transf.head()"
   ]
  },
  {
   "cell_type": "markdown",
   "id": "98a218a6",
   "metadata": {},
   "source": [
    "## 1.2 PreProcessat"
   ]
  },
  {
   "cell_type": "code",
   "execution_count": 5,
   "id": "8a5e2f7e",
   "metadata": {},
   "outputs": [
    {
     "data": {
      "text/html": [
       "<div>\n",
       "<style scoped>\n",
       "    .dataframe tbody tr th:only-of-type {\n",
       "        vertical-align: middle;\n",
       "    }\n",
       "\n",
       "    .dataframe tbody tr th {\n",
       "        vertical-align: top;\n",
       "    }\n",
       "\n",
       "    .dataframe thead th {\n",
       "        text-align: right;\n",
       "    }\n",
       "</style>\n",
       "<table border=\"1\" class=\"dataframe\">\n",
       "  <thead>\n",
       "    <tr style=\"text-align: right;\">\n",
       "      <th></th>\n",
       "      <th>CRIM</th>\n",
       "      <th>ZN</th>\n",
       "      <th>INDUS</th>\n",
       "      <th>CHAS</th>\n",
       "      <th>NOX</th>\n",
       "      <th>RM</th>\n",
       "      <th>AGE</th>\n",
       "      <th>DIS</th>\n",
       "      <th>TAX</th>\n",
       "      <th>PTRATIO</th>\n",
       "      <th>...</th>\n",
       "      <th>MEDV</th>\n",
       "      <th>RAD_1</th>\n",
       "      <th>RAD_2</th>\n",
       "      <th>RAD_3</th>\n",
       "      <th>RAD_4</th>\n",
       "      <th>RAD_5</th>\n",
       "      <th>RAD_6</th>\n",
       "      <th>RAD_7</th>\n",
       "      <th>RAD_8</th>\n",
       "      <th>RAD_24</th>\n",
       "    </tr>\n",
       "  </thead>\n",
       "  <tbody>\n",
       "    <tr>\n",
       "      <th>0</th>\n",
       "      <td>-0.069593</td>\n",
       "      <td>1.44</td>\n",
       "      <td>2.31</td>\n",
       "      <td>0</td>\n",
       "      <td>0.538</td>\n",
       "      <td>0.496612</td>\n",
       "      <td>65.2</td>\n",
       "      <td>0.285777</td>\n",
       "      <td>296.0</td>\n",
       "      <td>-1.339286</td>\n",
       "      <td>...</td>\n",
       "      <td>24.0</td>\n",
       "      <td>1</td>\n",
       "      <td>0</td>\n",
       "      <td>0</td>\n",
       "      <td>0</td>\n",
       "      <td>0</td>\n",
       "      <td>0</td>\n",
       "      <td>0</td>\n",
       "      <td>0</td>\n",
       "      <td>0</td>\n",
       "    </tr>\n",
       "    <tr>\n",
       "      <th>1</th>\n",
       "      <td>-0.063755</td>\n",
       "      <td>0.00</td>\n",
       "      <td>7.07</td>\n",
       "      <td>0</td>\n",
       "      <td>0.469</td>\n",
       "      <td>0.287940</td>\n",
       "      <td>78.9</td>\n",
       "      <td>0.569789</td>\n",
       "      <td>242.0</td>\n",
       "      <td>-0.446429</td>\n",
       "      <td>...</td>\n",
       "      <td>21.6</td>\n",
       "      <td>0</td>\n",
       "      <td>1</td>\n",
       "      <td>0</td>\n",
       "      <td>0</td>\n",
       "      <td>0</td>\n",
       "      <td>0</td>\n",
       "      <td>0</td>\n",
       "      <td>0</td>\n",
       "      <td>0</td>\n",
       "    </tr>\n",
       "    <tr>\n",
       "      <th>2</th>\n",
       "      <td>-0.063760</td>\n",
       "      <td>0.00</td>\n",
       "      <td>7.07</td>\n",
       "      <td>0</td>\n",
       "      <td>0.469</td>\n",
       "      <td>1.323171</td>\n",
       "      <td>61.1</td>\n",
       "      <td>0.569789</td>\n",
       "      <td>242.0</td>\n",
       "      <td>-0.446429</td>\n",
       "      <td>...</td>\n",
       "      <td>34.7</td>\n",
       "      <td>0</td>\n",
       "      <td>1</td>\n",
       "      <td>0</td>\n",
       "      <td>0</td>\n",
       "      <td>0</td>\n",
       "      <td>0</td>\n",
       "      <td>0</td>\n",
       "      <td>0</td>\n",
       "      <td>0</td>\n",
       "    </tr>\n",
       "    <tr>\n",
       "      <th>3</th>\n",
       "      <td>-0.062347</td>\n",
       "      <td>0.00</td>\n",
       "      <td>2.18</td>\n",
       "      <td>0</td>\n",
       "      <td>0.458</td>\n",
       "      <td>1.069783</td>\n",
       "      <td>45.8</td>\n",
       "      <td>0.924391</td>\n",
       "      <td>222.0</td>\n",
       "      <td>-0.125000</td>\n",
       "      <td>...</td>\n",
       "      <td>33.4</td>\n",
       "      <td>0</td>\n",
       "      <td>0</td>\n",
       "      <td>1</td>\n",
       "      <td>0</td>\n",
       "      <td>0</td>\n",
       "      <td>0</td>\n",
       "      <td>0</td>\n",
       "      <td>0</td>\n",
       "      <td>0</td>\n",
       "    </tr>\n",
       "    <tr>\n",
       "      <th>4</th>\n",
       "      <td>-0.052144</td>\n",
       "      <td>0.00</td>\n",
       "      <td>2.18</td>\n",
       "      <td>0</td>\n",
       "      <td>0.458</td>\n",
       "      <td>1.271680</td>\n",
       "      <td>54.2</td>\n",
       "      <td>0.924391</td>\n",
       "      <td>222.0</td>\n",
       "      <td>-0.125000</td>\n",
       "      <td>...</td>\n",
       "      <td>36.2</td>\n",
       "      <td>0</td>\n",
       "      <td>0</td>\n",
       "      <td>1</td>\n",
       "      <td>0</td>\n",
       "      <td>0</td>\n",
       "      <td>0</td>\n",
       "      <td>0</td>\n",
       "      <td>0</td>\n",
       "      <td>0</td>\n",
       "    </tr>\n",
       "  </tbody>\n",
       "</table>\n",
       "<p>5 rows × 22 columns</p>\n",
       "</div>"
      ],
      "text/plain": [
       "       CRIM    ZN  INDUS  CHAS    NOX        RM   AGE       DIS    TAX  \\\n",
       "0 -0.069593  1.44   2.31     0  0.538  0.496612  65.2  0.285777  296.0   \n",
       "1 -0.063755  0.00   7.07     0  0.469  0.287940  78.9  0.569789  242.0   \n",
       "2 -0.063760  0.00   7.07     0  0.469  1.323171  61.1  0.569789  242.0   \n",
       "3 -0.062347  0.00   2.18     0  0.458  1.069783  45.8  0.924391  222.0   \n",
       "4 -0.052144  0.00   2.18     0  0.458  1.271680  54.2  0.924391  222.0   \n",
       "\n",
       "    PTRATIO  ...  MEDV  RAD_1  RAD_2  RAD_3  RAD_4  RAD_5  RAD_6  RAD_7  \\\n",
       "0 -1.339286  ...  24.0      1      0      0      0      0      0      0   \n",
       "1 -0.446429  ...  21.6      0      1      0      0      0      0      0   \n",
       "2 -0.446429  ...  34.7      0      1      0      0      0      0      0   \n",
       "3 -0.125000  ...  33.4      0      0      1      0      0      0      0   \n",
       "4 -0.125000  ...  36.2      0      0      1      0      0      0      0   \n",
       "\n",
       "   RAD_8  RAD_24  \n",
       "0      0       0  \n",
       "1      0       0  \n",
       "2      0       0  \n",
       "3      0       0  \n",
       "4      0       0  \n",
       "\n",
       "[5 rows x 22 columns]"
      ]
     },
     "execution_count": 5,
     "metadata": {},
     "output_type": "execute_result"
    }
   ],
   "source": [
    "from sklearn import preprocessing\n",
    "from sklearn.preprocessing import RobustScaler\n",
    "#Preprocessem amb un Robust Scaler les dades que tenen outliers\n",
    "columnsRobust = ['CRIM','ZN','RM','DIS','PTRATIO','B','LSTAT']\n",
    "scaler = preprocessing.RobustScaler().fit(HousingBoston_transf[columnsRobust])\n",
    "HousingBoston_transf[columnsRobust] = scaler.transform(HousingBoston_transf[columnsRobust])\n",
    "HousingBoston_transf.head()"
   ]
  },
  {
   "cell_type": "code",
   "execution_count": 6,
   "id": "c874aa71",
   "metadata": {},
   "outputs": [
    {
     "data": {
      "text/html": [
       "<div>\n",
       "<style scoped>\n",
       "    .dataframe tbody tr th:only-of-type {\n",
       "        vertical-align: middle;\n",
       "    }\n",
       "\n",
       "    .dataframe tbody tr th {\n",
       "        vertical-align: top;\n",
       "    }\n",
       "\n",
       "    .dataframe thead th {\n",
       "        text-align: right;\n",
       "    }\n",
       "</style>\n",
       "<table border=\"1\" class=\"dataframe\">\n",
       "  <thead>\n",
       "    <tr style=\"text-align: right;\">\n",
       "      <th></th>\n",
       "      <th>CRIM</th>\n",
       "      <th>ZN</th>\n",
       "      <th>INDUS</th>\n",
       "      <th>CHAS</th>\n",
       "      <th>NOX</th>\n",
       "      <th>RM</th>\n",
       "      <th>AGE</th>\n",
       "      <th>DIS</th>\n",
       "      <th>TAX</th>\n",
       "      <th>PTRATIO</th>\n",
       "      <th>...</th>\n",
       "      <th>MEDV</th>\n",
       "      <th>RAD_1</th>\n",
       "      <th>RAD_2</th>\n",
       "      <th>RAD_3</th>\n",
       "      <th>RAD_4</th>\n",
       "      <th>RAD_5</th>\n",
       "      <th>RAD_6</th>\n",
       "      <th>RAD_7</th>\n",
       "      <th>RAD_8</th>\n",
       "      <th>RAD_24</th>\n",
       "    </tr>\n",
       "  </thead>\n",
       "  <tbody>\n",
       "    <tr>\n",
       "      <th>0</th>\n",
       "      <td>-0.069593</td>\n",
       "      <td>1.44</td>\n",
       "      <td>0.067815</td>\n",
       "      <td>0</td>\n",
       "      <td>0.314815</td>\n",
       "      <td>0.496612</td>\n",
       "      <td>0.641607</td>\n",
       "      <td>0.285777</td>\n",
       "      <td>0.208015</td>\n",
       "      <td>-1.339286</td>\n",
       "      <td>...</td>\n",
       "      <td>24.0</td>\n",
       "      <td>1</td>\n",
       "      <td>0</td>\n",
       "      <td>0</td>\n",
       "      <td>0</td>\n",
       "      <td>0</td>\n",
       "      <td>0</td>\n",
       "      <td>0</td>\n",
       "      <td>0</td>\n",
       "      <td>0</td>\n",
       "    </tr>\n",
       "    <tr>\n",
       "      <th>1</th>\n",
       "      <td>-0.063755</td>\n",
       "      <td>0.00</td>\n",
       "      <td>0.242302</td>\n",
       "      <td>0</td>\n",
       "      <td>0.172840</td>\n",
       "      <td>0.287940</td>\n",
       "      <td>0.782698</td>\n",
       "      <td>0.569789</td>\n",
       "      <td>0.104962</td>\n",
       "      <td>-0.446429</td>\n",
       "      <td>...</td>\n",
       "      <td>21.6</td>\n",
       "      <td>0</td>\n",
       "      <td>1</td>\n",
       "      <td>0</td>\n",
       "      <td>0</td>\n",
       "      <td>0</td>\n",
       "      <td>0</td>\n",
       "      <td>0</td>\n",
       "      <td>0</td>\n",
       "      <td>0</td>\n",
       "    </tr>\n",
       "    <tr>\n",
       "      <th>2</th>\n",
       "      <td>-0.063760</td>\n",
       "      <td>0.00</td>\n",
       "      <td>0.242302</td>\n",
       "      <td>0</td>\n",
       "      <td>0.172840</td>\n",
       "      <td>1.323171</td>\n",
       "      <td>0.599382</td>\n",
       "      <td>0.569789</td>\n",
       "      <td>0.104962</td>\n",
       "      <td>-0.446429</td>\n",
       "      <td>...</td>\n",
       "      <td>34.7</td>\n",
       "      <td>0</td>\n",
       "      <td>1</td>\n",
       "      <td>0</td>\n",
       "      <td>0</td>\n",
       "      <td>0</td>\n",
       "      <td>0</td>\n",
       "      <td>0</td>\n",
       "      <td>0</td>\n",
       "      <td>0</td>\n",
       "    </tr>\n",
       "    <tr>\n",
       "      <th>3</th>\n",
       "      <td>-0.062347</td>\n",
       "      <td>0.00</td>\n",
       "      <td>0.063050</td>\n",
       "      <td>0</td>\n",
       "      <td>0.150206</td>\n",
       "      <td>1.069783</td>\n",
       "      <td>0.441813</td>\n",
       "      <td>0.924391</td>\n",
       "      <td>0.066794</td>\n",
       "      <td>-0.125000</td>\n",
       "      <td>...</td>\n",
       "      <td>33.4</td>\n",
       "      <td>0</td>\n",
       "      <td>0</td>\n",
       "      <td>1</td>\n",
       "      <td>0</td>\n",
       "      <td>0</td>\n",
       "      <td>0</td>\n",
       "      <td>0</td>\n",
       "      <td>0</td>\n",
       "      <td>0</td>\n",
       "    </tr>\n",
       "    <tr>\n",
       "      <th>4</th>\n",
       "      <td>-0.052144</td>\n",
       "      <td>0.00</td>\n",
       "      <td>0.063050</td>\n",
       "      <td>0</td>\n",
       "      <td>0.150206</td>\n",
       "      <td>1.271680</td>\n",
       "      <td>0.528321</td>\n",
       "      <td>0.924391</td>\n",
       "      <td>0.066794</td>\n",
       "      <td>-0.125000</td>\n",
       "      <td>...</td>\n",
       "      <td>36.2</td>\n",
       "      <td>0</td>\n",
       "      <td>0</td>\n",
       "      <td>1</td>\n",
       "      <td>0</td>\n",
       "      <td>0</td>\n",
       "      <td>0</td>\n",
       "      <td>0</td>\n",
       "      <td>0</td>\n",
       "      <td>0</td>\n",
       "    </tr>\n",
       "  </tbody>\n",
       "</table>\n",
       "<p>5 rows × 22 columns</p>\n",
       "</div>"
      ],
      "text/plain": [
       "       CRIM    ZN     INDUS  CHAS       NOX        RM       AGE       DIS  \\\n",
       "0 -0.069593  1.44  0.067815     0  0.314815  0.496612  0.641607  0.285777   \n",
       "1 -0.063755  0.00  0.242302     0  0.172840  0.287940  0.782698  0.569789   \n",
       "2 -0.063760  0.00  0.242302     0  0.172840  1.323171  0.599382  0.569789   \n",
       "3 -0.062347  0.00  0.063050     0  0.150206  1.069783  0.441813  0.924391   \n",
       "4 -0.052144  0.00  0.063050     0  0.150206  1.271680  0.528321  0.924391   \n",
       "\n",
       "        TAX   PTRATIO  ...  MEDV  RAD_1  RAD_2  RAD_3  RAD_4  RAD_5  RAD_6  \\\n",
       "0  0.208015 -1.339286  ...  24.0      1      0      0      0      0      0   \n",
       "1  0.104962 -0.446429  ...  21.6      0      1      0      0      0      0   \n",
       "2  0.104962 -0.446429  ...  34.7      0      1      0      0      0      0   \n",
       "3  0.066794 -0.125000  ...  33.4      0      0      1      0      0      0   \n",
       "4  0.066794 -0.125000  ...  36.2      0      0      1      0      0      0   \n",
       "\n",
       "   RAD_7  RAD_8  RAD_24  \n",
       "0      0      0       0  \n",
       "1      0      0       0  \n",
       "2      0      0       0  \n",
       "3      0      0       0  \n",
       "4      0      0       0  \n",
       "\n",
       "[5 rows x 22 columns]"
      ]
     },
     "execution_count": 6,
     "metadata": {},
     "output_type": "execute_result"
    }
   ],
   "source": [
    "from sklearn.preprocessing import MinMaxScaler\n",
    "#Preprocessem amb un MinMaxScaler les dades que NO tenen outliers\n",
    "columnsminmax = ['INDUS', 'NOX', 'TAX', 'AGE']\n",
    "trans = MinMaxScaler()\n",
    "HousingBoston_transf[columnsminmax] = trans.fit_transform(HousingBoston_transf[columnsminmax])\n",
    "HousingBoston_transf.head()"
   ]
  },
  {
   "cell_type": "markdown",
   "id": "acf18800",
   "metadata": {},
   "source": [
    "**REGRESSIO LINEAL**"
   ]
  },
  {
   "cell_type": "markdown",
   "id": "dd1dac34",
   "metadata": {},
   "source": [
    "Abans de definir el target miro la correlació de MEDV (Median value of owner-occupied homes in 1000 USD) amb la resta de variables."
   ]
  },
  {
   "cell_type": "markdown",
   "id": "17e9b85c",
   "metadata": {},
   "source": [
    "Mirem la correlació i la regressió de la variable MEDV respecte les altres amb np.polyfit() aquesta funció serveix per fer una linea de regressió lineal al scatterplot de la variable x que en aquest representa cada columna respecte MEDV que serà la variable que es la linea en color en color verd. np.poly1d() crea una funció polinomica a  (una linea en aquest cas ) amb els coeficients generats per np.polyfit().\n",
    "Agafo nomes les 13 primeres columnes per no agafar RAD que es un index categòric."
   ]
  },
  {
   "cell_type": "code",
   "execution_count": 7,
   "id": "c8313c87",
   "metadata": {},
   "outputs": [
    {
     "data": {
      "image/png": "[encoded data removed]",
      "text/plain": [
       "<Figure size 1296x1296 with 13 Axes>"
      ]
     },
     "metadata": {
      "needs_background": "light"
     },
     "output_type": "display_data"
    }
   ],
   "source": [
    "plt.figure(figsize=(18, 18))\n",
    "\n",
    "for i, idx in enumerate(HousingBoston_transf.columns[0:13]):\n",
    "    plt.subplot(5, 5, i+1)\n",
    "    x = HousingBoston_transf[idx]\n",
    "    y = HousingBoston_transf['MEDV']\n",
    "    plt.plot(x, y, 'x')\n",
    "    \n",
    "# Create regression line\n",
    "    plt.plot(np.unique(x), np.poly1d(np.polyfit(x, y, 1)) (np.unique(x)), color='green')\n",
    "    plt.xlabel(idx)\n",
    "    plt.ylabel('Price')"
   ]
  },
  {
   "cell_type": "markdown",
   "id": "6f308568",
   "metadata": {},
   "source": [
    "En funció d'aixó veiem que RM AGE TAX i LSTAT son els que tenen més correlació linear amb la variable objectiu MEDV.\n"
   ]
  },
  {
   "cell_type": "code",
   "execution_count": 8,
   "id": "8568dfff",
   "metadata": {},
   "outputs": [],
   "source": [
    "from sklearn.model_selection import train_test_split\n",
    "# Separo la bdd entre features i target posant al eix Y el target, no considero les variables categòriques RAD i CHAS\n",
    "features = ['CRIM', 'ZN', 'RM', 'DIS','PTRATIO','B', 'LSTAT','INDUS', 'NOX','AGE', 'TAX']\n",
    "target= ['MEDV']\n",
    "X = HousingBoston_transf[features]\n",
    "y = HousingBoston_transf[target]"
   ]
  },
  {
   "cell_type": "markdown",
   "id": "98db42e8",
   "metadata": {},
   "source": [
    "Podem mirar si existeix multicolonialitat, es tracta d'un fenomen en què hi ha una correlació alta entre les variables d'un conjunt de dades, el que pot afectar negativament els resultats de les anàlisis estadístiques. Quan això passa, les variables afectades poden ser redundants, cosa que implica pèrdua de informació i modelatge més complex."
   ]
  },
  {
   "cell_type": "code",
   "execution_count": 9,
   "id": "16134d61",
   "metadata": {},
   "outputs": [
    {
     "name": "stdout",
     "output_type": "stream",
     "text": [
      "[1.9164262719641896, 2.7670192092757926, 1.8997888921308737, 2.641357961852795, 1.8274382782068814, 1.5333474262108102, 2.6824901821260494, 11.359766870856298, 13.346194165392863, 9.721542977688593, 9.23821061220378]\n"
     ]
    }
   ],
   "source": [
    "import statsmodels.api as sm\n",
    "from statsmodels.stats.outliers_influence import variance_inflation_factor\n",
    "\n",
    "# ajustem un model lineal als nostres dades\n",
    "model = sm.OLS(X, y)\n",
    "\n",
    "# calculem el factor d'inflació de la variança per a cada variable\n",
    "vif_array = [variance_inflation_factor(X, i) for i in range(X.shape[1])]\n",
    "\n",
    "print(vif_array)"
   ]
  },
  {
   "cell_type": "markdown",
   "id": "86cf74e3",
   "metadata": {},
   "source": [
    "En general, un valor de multicolonialitat superior a 5 o 10 indica una alta multicolinealidad. Veiem que la variable INDUS, NOX, AGE i TAX tenen unes multicolonialitats molt elevada, està altament correlacionada amb altres variables del conjunt de dades, el que pot afectar negativament les anàlisis estadístiques... I ho tindrem en compte per els resultats dels models predictius mes endavant.\n",
    "Hem de tenir en compte:\n",
    "*-\"Multicollinearity affects the coefficients and p-values, but it does not influence the predictions, precision of the predictions, and the goodness-of-fit statistics. If your primary goal is to make predictions, and you don’t need to understand the role of each independent variable, you don’t need to reduce severe multicollinearity.\"-*\n",
    "https://statisticsbyjim.com/regression/multicollinearity-in-regression-analysis/"
   ]
  },
  {
   "cell_type": "markdown",
   "id": "70c3c7e1",
   "metadata": {},
   "source": [
    "La variable \"TAX\" podria tenir una relació no-lineal amb la variable objectiu \"MEDV\". \n",
    "Per exemple, podria ser que el creixement dels valor mig de vivenda ocupada no fos relacionat amb el que es paga de Impost per vivenda, per exemple pot ser que estigui relacionada amb el barri."
   ]
  },
  {
   "cell_type": "markdown",
   "id": "33338ecf",
   "metadata": {},
   "source": [
    "## 1.3 Separem amb Train i Test "
   ]
  },
  {
   "cell_type": "markdown",
   "id": "33ac73b8",
   "metadata": {},
   "source": [
    "Es recomanable aplicar train i test abans d'aplicar la regressió lineal o qualsevol altre algorisme de machine learning.\n",
    "\n",
    "Aquesta separació serveix per evitar l'overfitting (sobreajustament) del model, ja que si utilitzem totes les dades per entrenar el model, aquest es pot ajustar excessivament a les dades d'entrenament i \n",
    "no permetrà prediccions acurades sobre les dades de prova.\n",
    "\n",
    "Per tant, dividim les dades en dos conjunts: entrenament i prova. La idea és utilitzar el conjunt d'entrenament per ajustar el model i el conjunt de prova per avaluar la seva precisió."
   ]
  },
  {
   "cell_type": "code",
   "execution_count": 10,
   "id": "033bf445",
   "metadata": {},
   "outputs": [
    {
     "data": {
      "text/html": [
       "<div>\n",
       "<style scoped>\n",
       "    .dataframe tbody tr th:only-of-type {\n",
       "        vertical-align: middle;\n",
       "    }\n",
       "\n",
       "    .dataframe tbody tr th {\n",
       "        vertical-align: top;\n",
       "    }\n",
       "\n",
       "    .dataframe thead th {\n",
       "        text-align: right;\n",
       "    }\n",
       "</style>\n",
       "<table border=\"1\" class=\"dataframe\">\n",
       "  <thead>\n",
       "    <tr style=\"text-align: right;\">\n",
       "      <th></th>\n",
       "      <th>CRIM</th>\n",
       "      <th>ZN</th>\n",
       "      <th>RM</th>\n",
       "      <th>DIS</th>\n",
       "      <th>PTRATIO</th>\n",
       "      <th>B</th>\n",
       "      <th>LSTAT</th>\n",
       "      <th>INDUS</th>\n",
       "      <th>NOX</th>\n",
       "      <th>AGE</th>\n",
       "      <th>TAX</th>\n",
       "    </tr>\n",
       "  </thead>\n",
       "  <tbody>\n",
       "    <tr>\n",
       "      <th>count</th>\n",
       "      <td>404.000000</td>\n",
       "      <td>404.000000</td>\n",
       "      <td>404.000000</td>\n",
       "      <td>404.000000</td>\n",
       "      <td>404.000000</td>\n",
       "      <td>404.000000</td>\n",
       "      <td>404.000000</td>\n",
       "      <td>404.000000</td>\n",
       "      <td>404.000000</td>\n",
       "      <td>404.000000</td>\n",
       "      <td>404.000000</td>\n",
       "    </tr>\n",
       "    <tr>\n",
       "      <th>mean</th>\n",
       "      <td>0.961816</td>\n",
       "      <td>0.879703</td>\n",
       "      <td>0.086268</td>\n",
       "      <td>0.187904</td>\n",
       "      <td>-0.205888</td>\n",
       "      <td>-1.611188</td>\n",
       "      <td>0.142750</td>\n",
       "      <td>0.389492</td>\n",
       "      <td>0.354086</td>\n",
       "      <td>0.679653</td>\n",
       "      <td>0.431472</td>\n",
       "    </tr>\n",
       "    <tr>\n",
       "      <th>std</th>\n",
       "      <td>2.363608</td>\n",
       "      <td>1.835343</td>\n",
       "      <td>0.965179</td>\n",
       "      <td>0.691345</td>\n",
       "      <td>0.775367</td>\n",
       "      <td>4.291947</td>\n",
       "      <td>0.722140</td>\n",
       "      <td>0.251833</td>\n",
       "      <td>0.242091</td>\n",
       "      <td>0.289352</td>\n",
       "      <td>0.324530</td>\n",
       "    </tr>\n",
       "    <tr>\n",
       "      <th>min</th>\n",
       "      <td>-0.069593</td>\n",
       "      <td>0.000000</td>\n",
       "      <td>-3.587398</td>\n",
       "      <td>-0.672824</td>\n",
       "      <td>-2.303571</td>\n",
       "      <td>-18.761003</td>\n",
       "      <td>-0.962519</td>\n",
       "      <td>0.010264</td>\n",
       "      <td>0.000000</td>\n",
       "      <td>0.000000</td>\n",
       "      <td>0.000000</td>\n",
       "    </tr>\n",
       "    <tr>\n",
       "      <th>25%</th>\n",
       "      <td>-0.049104</td>\n",
       "      <td>0.000000</td>\n",
       "      <td>-0.436314</td>\n",
       "      <td>-0.362527</td>\n",
       "      <td>-0.598214</td>\n",
       "      <td>-0.784507</td>\n",
       "      <td>-0.418791</td>\n",
       "      <td>0.171188</td>\n",
       "      <td>0.131687</td>\n",
       "      <td>0.440525</td>\n",
       "      <td>0.179389</td>\n",
       "    </tr>\n",
       "    <tr>\n",
       "      <th>50%</th>\n",
       "      <td>0.001711</td>\n",
       "      <td>0.000000</td>\n",
       "      <td>0.000000</td>\n",
       "      <td>-0.021096</td>\n",
       "      <td>0.017857</td>\n",
       "      <td>-0.008634</td>\n",
       "      <td>0.003498</td>\n",
       "      <td>0.338343</td>\n",
       "      <td>0.314815</td>\n",
       "      <td>0.768280</td>\n",
       "      <td>0.281489</td>\n",
       "    </tr>\n",
       "    <tr>\n",
       "      <th>75%</th>\n",
       "      <td>1.012609</td>\n",
       "      <td>1.000000</td>\n",
       "      <td>0.539973</td>\n",
       "      <td>0.626253</td>\n",
       "      <td>0.410714</td>\n",
       "      <td>0.226286</td>\n",
       "      <td>0.574213</td>\n",
       "      <td>0.646628</td>\n",
       "      <td>0.539095</td>\n",
       "      <td>0.937436</td>\n",
       "      <td>0.914122</td>\n",
       "    </tr>\n",
       "    <tr>\n",
       "      <th>max</th>\n",
       "      <td>24.678377</td>\n",
       "      <td>8.000000</td>\n",
       "      <td>3.484417</td>\n",
       "      <td>2.888060</td>\n",
       "      <td>1.053571</td>\n",
       "      <td>0.261902</td>\n",
       "      <td>2.659670</td>\n",
       "      <td>1.000000</td>\n",
       "      <td>1.000000</td>\n",
       "      <td>1.000000</td>\n",
       "      <td>1.000000</td>\n",
       "    </tr>\n",
       "  </tbody>\n",
       "</table>\n",
       "</div>"
      ],
      "text/plain": [
       "             CRIM          ZN          RM         DIS     PTRATIO           B  \\\n",
       "count  404.000000  404.000000  404.000000  404.000000  404.000000  404.000000   \n",
       "mean     0.961816    0.879703    0.086268    0.187904   -0.205888   -1.611188   \n",
       "std      2.363608    1.835343    0.965179    0.691345    0.775367    4.291947   \n",
       "min     -0.069593    0.000000   -3.587398   -0.672824   -2.303571  -18.761003   \n",
       "25%     -0.049104    0.000000   -0.436314   -0.362527   -0.598214   -0.784507   \n",
       "50%      0.001711    0.000000    0.000000   -0.021096    0.017857   -0.008634   \n",
       "75%      1.012609    1.000000    0.539973    0.626253    0.410714    0.226286   \n",
       "max     24.678377    8.000000    3.484417    2.888060    1.053571    0.261902   \n",
       "\n",
       "            LSTAT       INDUS         NOX         AGE         TAX  \n",
       "count  404.000000  404.000000  404.000000  404.000000  404.000000  \n",
       "mean     0.142750    0.389492    0.354086    0.679653    0.431472  \n",
       "std      0.722140    0.251833    0.242091    0.289352    0.324530  \n",
       "min     -0.962519    0.010264    0.000000    0.000000    0.000000  \n",
       "25%     -0.418791    0.171188    0.131687    0.440525    0.179389  \n",
       "50%      0.003498    0.338343    0.314815    0.768280    0.281489  \n",
       "75%      0.574213    0.646628    0.539095    0.937436    0.914122  \n",
       "max      2.659670    1.000000    1.000000    1.000000    1.000000  "
      ]
     },
     "execution_count": 10,
     "metadata": {},
     "output_type": "execute_result"
    }
   ],
   "source": [
    "X_train, X_test, y_train, y_test = train_test_split(X, y, test_size=0.2, random_state=4)\n",
    "X_train.describe()\n"
   ]
  },
  {
   "cell_type": "markdown",
   "id": "830299de",
   "metadata": {},
   "source": [
    "Veiem que agafa el 80% de les dades per el train i el 20% per el test amb 404 i 102 registres:"
   ]
  },
  {
   "cell_type": "code",
   "execution_count": 11,
   "id": "1b8715c6",
   "metadata": {},
   "outputs": [
    {
     "data": {
      "text/html": [
       "<div>\n",
       "<style scoped>\n",
       "    .dataframe tbody tr th:only-of-type {\n",
       "        vertical-align: middle;\n",
       "    }\n",
       "\n",
       "    .dataframe tbody tr th {\n",
       "        vertical-align: top;\n",
       "    }\n",
       "\n",
       "    .dataframe thead th {\n",
       "        text-align: right;\n",
       "    }\n",
       "</style>\n",
       "<table border=\"1\" class=\"dataframe\">\n",
       "  <thead>\n",
       "    <tr style=\"text-align: right;\">\n",
       "      <th></th>\n",
       "      <th>MEDV</th>\n",
       "    </tr>\n",
       "  </thead>\n",
       "  <tbody>\n",
       "    <tr>\n",
       "      <th>count</th>\n",
       "      <td>102.000000</td>\n",
       "    </tr>\n",
       "    <tr>\n",
       "      <th>mean</th>\n",
       "      <td>23.461765</td>\n",
       "    </tr>\n",
       "    <tr>\n",
       "      <th>std</th>\n",
       "      <td>9.685500</td>\n",
       "    </tr>\n",
       "    <tr>\n",
       "      <th>min</th>\n",
       "      <td>6.300000</td>\n",
       "    </tr>\n",
       "    <tr>\n",
       "      <th>25%</th>\n",
       "      <td>17.575000</td>\n",
       "    </tr>\n",
       "    <tr>\n",
       "      <th>50%</th>\n",
       "      <td>20.500000</td>\n",
       "    </tr>\n",
       "    <tr>\n",
       "      <th>75%</th>\n",
       "      <td>27.875000</td>\n",
       "    </tr>\n",
       "    <tr>\n",
       "      <th>max</th>\n",
       "      <td>50.000000</td>\n",
       "    </tr>\n",
       "  </tbody>\n",
       "</table>\n",
       "</div>"
      ],
      "text/plain": [
       "             MEDV\n",
       "count  102.000000\n",
       "mean    23.461765\n",
       "std      9.685500\n",
       "min      6.300000\n",
       "25%     17.575000\n",
       "50%     20.500000\n",
       "75%     27.875000\n",
       "max     50.000000"
      ]
     },
     "execution_count": 11,
     "metadata": {},
     "output_type": "execute_result"
    }
   ],
   "source": [
    "\n",
    "y_test.describe()\n"
   ]
  },
  {
   "cell_type": "markdown",
   "id": "399a94fe",
   "metadata": {},
   "source": [
    "## 1.4 Apliquem 3 Models: Linear Regression, Support Vector Machines i Random Forest Regression"
   ]
  },
  {
   "cell_type": "code",
   "execution_count": null,
   "id": "c88facee",
   "metadata": {},
   "outputs": [],
   "source": []
  },
  {
   "cell_type": "code",
   "execution_count": 12,
   "id": "86fbb963",
   "metadata": {},
   "outputs": [
    {
     "name": "stdout",
     "output_type": "stream",
     "text": [
      "La precisió del Training:  72.22348226651218\n",
      "La precisió del testing és:  71.39352418089831\n",
      "La precisió del Model de regressió lineal és :  72.11108109376411\n"
     ]
    }
   ],
   "source": [
    "from sklearn.linear_model import LinearRegression\n",
    "from sklearn.metrics import r2_score\n",
    "\n",
    "# Apliquem el model de regressió lineal\n",
    "model = LinearRegression()\n",
    "# Entrenem el model a les dades d'entrenament amb fit\n",
    "model.fit(X_train, y_train)\n",
    "y_pred_linreg= model.predict(X_test)\n",
    "\n",
    "print('La precisió del Training: ',model.score(X_train, y_train)*100)\n",
    "print(\"La precisió del testing és: \", model.score(X_test, y_test)*100)\n",
    "print(\"La precisió del Model de regressió lineal és : \", r2_score(y, model.predict(X))*100)"
   ]
  },
  {
   "cell_type": "markdown",
   "id": "95ce4cf3",
   "metadata": {},
   "source": [
    "Veiem que la precisió es menor en les dades de test que en el entrenament. \n",
    "Podem verificar si existeix algun overfitting aplicant una regularització"
   ]
  },
  {
   "cell_type": "code",
   "execution_count": 13,
   "id": "cba6ba53",
   "metadata": {},
   "outputs": [
    {
     "name": "stdout",
     "output_type": "stream",
     "text": [
      "R-squared score: 0.7139352418089832\n",
      "Mitja cuadratica score: 26.572333498455965\n"
     ]
    },
    {
     "data": {
      "image/png": "[encoded data removed]",
      "text/plain": [
       "<Figure size 432x288 with 1 Axes>"
      ]
     },
     "metadata": {
      "needs_background": "light"
     },
     "output_type": "display_data"
    }
   ],
   "source": [
    "\n",
    "# Calculate the R-squared score\n",
    "\n",
    "r2_linreg= r2_score(y_test, y_pred_linreg)\n",
    "mse_linreg = mean_squared_error(y_test, y_pred_linreg)\n",
    "print(\"R-squared score:\", r2_linreg)\n",
    "print(\"Mitja cuadratica score:\", mse_linreg)\n",
    "\n",
    "plt.scatter(y_train, model.predict(X_train), c='red', label='Actual', cmap='viridis')\n",
    "plt.scatter(model.predict(X_test), y_pred_linreg, c='blue', label='Predicted', cmap='viridis')\n",
    "#faig un scatter plot de les dades entrenades de preu en vermell i les prediccions de preu en blau\n",
    "plt.xlabel(\"Preus\")\n",
    "plt.ylabel(\"Preus predictius\")\n",
    "plt.title(\"Preus vs Prediccions de preu\")\n",
    "plt.show()\n",
    "\n"
   ]
  },
  {
   "cell_type": "markdown",
   "id": "6c18c84a",
   "metadata": {},
   "source": [
    "-La MSE (mitja cuadràtica) indica com d'aprop està la regressió dels punts que veiem. Com mes petit és el MSE, millor serà el pronóstic.\n",
    "-El R2 mesura la relació lineal entre X e Y, és la proporció de la variança en la variable dependent que es pot predir a partir de la variable independent."
   ]
  },
  {
   "cell_type": "code",
   "execution_count": 14,
   "id": "ac2c295a",
   "metadata": {},
   "outputs": [
    {
     "name": "stdout",
     "output_type": "stream",
     "text": [
      "La precisió del training és:  63.11931707338181\n",
      "La precisió del testing és:  52.59119525425876\n",
      "La precisió del Model de Support Vector Machines és :  60.8793085292345\n"
     ]
    }
   ],
   "source": [
    "from sklearn.svm import SVR\n",
    "Model3 = SVR()\n",
    "Model3.fit(X_train, y_train)\n",
    "y_pred_svr = Model3.predict(X_test)\n",
    "print('La precisió del training és: ', Model3.score(X_train, y_train)*100)\n",
    "print(\"La precisió del testing és: \", Model3.score(X_test, y_test)*100)\n",
    "print(\"La precisió del Model de Support Vector Machines és : \", r2_score(y, Model3.predict(X))*100)"
   ]
  },
  {
   "cell_type": "code",
   "execution_count": 15,
   "id": "fdddc07a",
   "metadata": {},
   "outputs": [
    {
     "name": "stdout",
     "output_type": "stream",
     "text": [
      "R-squared score: 0.5259119525425876\n",
      "Mitja cuadratica score: 44.037670995664\n"
     ]
    },
    {
     "data": {
      "image/png": "[encoded data removed]",
      "text/plain": [
       "<Figure size 432x288 with 1 Axes>"
      ]
     },
     "metadata": {
      "needs_background": "light"
     },
     "output_type": "display_data"
    }
   ],
   "source": [
    "r2_SVR = r2_score(y_test, y_pred_svr)\n",
    "mse_SVR = mean_squared_error(y_test, y_pred_svr)\n",
    "print(\"R-squared score:\", r2_SVR)\n",
    "print(\"Mitja cuadratica score:\", mse_SVR)\n",
    "\n",
    "plt.scatter(y_train, Model3.predict(X_train), c='red', label='Actual', cmap='viridis')\n",
    "plt.scatter(Model3.predict(X_test), y_pred_svr, c='blue', label='Predicted', cmap='viridis')\n",
    "plt.xlabel(\"Preus\")\n",
    "plt.ylabel(\"Preus predictius\")\n",
    "plt.title(\"Preus vs Prediccions de preu\")\n",
    "plt.show()"
   ]
  },
  {
   "cell_type": "code",
   "execution_count": 16,
   "id": "c7513649",
   "metadata": {},
   "outputs": [
    {
     "name": "stdout",
     "output_type": "stream",
     "text": [
      "La precisió del training és:  97.81419840268822\n",
      "La precisió del testing és:  82.39806993689666\n",
      "La precisió del Model de Random Forest és :  94.40046064210202\n"
     ]
    }
   ],
   "source": [
    "model2 = RandomForestRegressor(random_state=45)\n",
    "model2.fit(X_train, y_train)\n",
    "y_pred_RFR = model2.predict(X_test)\n",
    "print('La precisió del training és: ', model2.score(X_train, y_train)*100)\n",
    "print(\"La precisió del testing és: \", model2.score(X_test, y_test)*100)\n",
    "print(\"La precisió del Model de Random Forest és : \", r2_score(y, model2.predict(X))*100)\n"
   ]
  },
  {
   "cell_type": "code",
   "execution_count": 17,
   "id": "713736ce",
   "metadata": {},
   "outputs": [
    {
     "name": "stdout",
     "output_type": "stream",
     "text": [
      "R-squared score: 0.8239806993689666\n",
      "Mitja cuadratica score: 16.350296303921574\n"
     ]
    },
    {
     "data": {
      "image/png": "[encoded data removed]",
      "text/plain": [
       "<Figure size 432x288 with 1 Axes>"
      ]
     },
     "metadata": {
      "needs_background": "light"
     },
     "output_type": "display_data"
    }
   ],
   "source": [
    "from sklearn.metrics import r2_score\n",
    "r2_RFR = r2_score(y_test, y_pred_RFR)\n",
    "mse_RFR = mean_squared_error(y_test, y_pred_RFR)\n",
    "print(\"R-squared score:\", r2_RFR)\n",
    "print(\"Mitja cuadratica score:\", mse_RFR)\n",
    "\n",
    "plt.scatter(y_train, model2.predict(X_train), c='red', label='Actual', cmap='viridis')\n",
    "plt.scatter(model2.predict(X_test), y_pred_RFR, c='blue', label='Predicted', cmap='viridis')\n",
    "plt.xlabel(\"Preus\")\n",
    "plt.ylabel(\"Preus predictius\")\n",
    "plt.title(\"Preus vs Prediccions de preu\")\n",
    "plt.show()"
   ]
  },
  {
   "cell_type": "markdown",
   "id": "a1b033dc",
   "metadata": {},
   "source": [
    "Veiem que la precisió del training es molt alta i molt menor en les dades de test que en el entrenament. \n",
    "Aqui està clar que hi ha overfitting i haurem d'aplicar una regularització."
   ]
  },
  {
   "cell_type": "code",
   "execution_count": 18,
   "id": "a3ab9f21",
   "metadata": {},
   "outputs": [
    {
     "data": {
      "text/html": [
       "<div>\n",
       "<style scoped>\n",
       "    .dataframe tbody tr th:only-of-type {\n",
       "        vertical-align: middle;\n",
       "    }\n",
       "\n",
       "    .dataframe tbody tr th {\n",
       "        vertical-align: top;\n",
       "    }\n",
       "\n",
       "    .dataframe thead th {\n",
       "        text-align: right;\n",
       "    }\n",
       "</style>\n",
       "<table border=\"1\" class=\"dataframe\">\n",
       "  <thead>\n",
       "    <tr style=\"text-align: right;\">\n",
       "      <th></th>\n",
       "      <th>PREDICCIÓ LIN REG</th>\n",
       "      <th>PREDICCIÓ RandomForest</th>\n",
       "      <th>PREDICCIÓ Support Vector Machine</th>\n",
       "    </tr>\n",
       "  </thead>\n",
       "  <tbody>\n",
       "    <tr>\n",
       "      <th>0</th>\n",
       "      <td>11.431908</td>\n",
       "      <td>18.080</td>\n",
       "      <td>17.054299</td>\n",
       "    </tr>\n",
       "    <tr>\n",
       "      <th>1</th>\n",
       "      <td>26.159208</td>\n",
       "      <td>24.483</td>\n",
       "      <td>25.947817</td>\n",
       "    </tr>\n",
       "    <tr>\n",
       "      <th>2</th>\n",
       "      <td>17.984879</td>\n",
       "      <td>19.670</td>\n",
       "      <td>18.892100</td>\n",
       "    </tr>\n",
       "    <tr>\n",
       "      <th>3</th>\n",
       "      <td>14.239719</td>\n",
       "      <td>18.446</td>\n",
       "      <td>15.701880</td>\n",
       "    </tr>\n",
       "    <tr>\n",
       "      <th>4</th>\n",
       "      <td>37.011154</td>\n",
       "      <td>48.140</td>\n",
       "      <td>31.934934</td>\n",
       "    </tr>\n",
       "    <tr>\n",
       "      <th>5</th>\n",
       "      <td>25.615975</td>\n",
       "      <td>24.065</td>\n",
       "      <td>23.868558</td>\n",
       "    </tr>\n",
       "    <tr>\n",
       "      <th>6</th>\n",
       "      <td>30.114797</td>\n",
       "      <td>34.099</td>\n",
       "      <td>26.746057</td>\n",
       "    </tr>\n",
       "    <tr>\n",
       "      <th>7</th>\n",
       "      <td>18.727771</td>\n",
       "      <td>18.180</td>\n",
       "      <td>18.185736</td>\n",
       "    </tr>\n",
       "    <tr>\n",
       "      <th>8</th>\n",
       "      <td>19.485864</td>\n",
       "      <td>15.255</td>\n",
       "      <td>14.241293</td>\n",
       "    </tr>\n",
       "    <tr>\n",
       "      <th>9</th>\n",
       "      <td>21.464063</td>\n",
       "      <td>15.938</td>\n",
       "      <td>20.403589</td>\n",
       "    </tr>\n",
       "  </tbody>\n",
       "</table>\n",
       "</div>"
      ],
      "text/plain": [
       "   PREDICCIÓ LIN REG  PREDICCIÓ RandomForest  PREDICCIÓ Support Vector Machine\n",
       "0          11.431908                  18.080                         17.054299\n",
       "1          26.159208                  24.483                         25.947817\n",
       "2          17.984879                  19.670                         18.892100\n",
       "3          14.239719                  18.446                         15.701880\n",
       "4          37.011154                  48.140                         31.934934\n",
       "5          25.615975                  24.065                         23.868558\n",
       "6          30.114797                  34.099                         26.746057\n",
       "7          18.727771                  18.180                         18.185736\n",
       "8          19.485864                  15.255                         14.241293\n",
       "9          21.464063                  15.938                         20.403589"
      ]
     },
     "execution_count": 18,
     "metadata": {},
     "output_type": "execute_result"
    }
   ],
   "source": [
    "#comparo les prediccions \n",
    "y_pred_linreg = model.predict(X_test).ravel()\n",
    "y_pred_svr = Model3.predict(X_test).ravel()\n",
    "y_pred_RFR = model2.predict(X_test).ravel()\n",
    "\n",
    "prediccion = pd.DataFrame({\n",
    "    'PREDICCIÓ LIN REG': y_pred_linreg,\n",
    "    'PREDICCIÓ RandomForest': y_pred_RFR,\n",
    "    'PREDICCIÓ Support Vector Machine': y_pred_svr\n",
    "})\n",
    "\n",
    "prediccion.head(10)"
   ]
  },
  {
   "cell_type": "markdown",
   "id": "491581ad",
   "metadata": {},
   "source": [
    "## - Exercici 2\n",
    "- #### Compara’ls en base al MSE i al R2."
   ]
  },
  {
   "cell_type": "code",
   "execution_count": 19,
   "id": "24063b32",
   "metadata": {},
   "outputs": [
    {
     "data": {
      "text/html": [
       "<div>\n",
       "<style scoped>\n",
       "    .dataframe tbody tr th:only-of-type {\n",
       "        vertical-align: middle;\n",
       "    }\n",
       "\n",
       "    .dataframe tbody tr th {\n",
       "        vertical-align: top;\n",
       "    }\n",
       "\n",
       "    .dataframe thead th {\n",
       "        text-align: right;\n",
       "    }\n",
       "</style>\n",
       "<table border=\"1\" class=\"dataframe\">\n",
       "  <thead>\n",
       "    <tr style=\"text-align: right;\">\n",
       "      <th></th>\n",
       "      <th>Model</th>\n",
       "      <th>R2</th>\n",
       "      <th>MSE</th>\n",
       "    </tr>\n",
       "  </thead>\n",
       "  <tbody>\n",
       "    <tr>\n",
       "      <th>0</th>\n",
       "      <td>Linear Regression</td>\n",
       "      <td>0.713935</td>\n",
       "      <td>26.572333</td>\n",
       "    </tr>\n",
       "    <tr>\n",
       "      <th>1</th>\n",
       "      <td>Support Vector MACHINES</td>\n",
       "      <td>0.525912</td>\n",
       "      <td>44.037671</td>\n",
       "    </tr>\n",
       "    <tr>\n",
       "      <th>2</th>\n",
       "      <td>Random Forest Regressor</td>\n",
       "      <td>0.823981</td>\n",
       "      <td>16.350296</td>\n",
       "    </tr>\n",
       "  </tbody>\n",
       "</table>\n",
       "</div>"
      ],
      "text/plain": [
       "                      Model        R2        MSE\n",
       "0         Linear Regression  0.713935  26.572333\n",
       "1   Support Vector MACHINES  0.525912  44.037671\n",
       "2   Random Forest Regressor  0.823981  16.350296"
      ]
     },
     "execution_count": 19,
     "metadata": {},
     "output_type": "execute_result"
    }
   ],
   "source": [
    "metrics = pd.DataFrame( data = [['Linear Regression', r2_linreg, mse_linreg],['Support Vector MACHINES', r2_SVR, mse_SVR],\n",
    "                                  [' Random Forest Regressor', r2_RFR, mse_RFR]],\n",
    "                                  columns = ['Model', 'R2', 'MSE'])\n",
    "metrics.head()"
   ]
  },
  {
   "cell_type": "markdown",
   "id": "01e04768",
   "metadata": {},
   "source": [
    "Com menor es el MSE, millor serà el pronòstic.\n",
    "El R2 es una mida de la relació lineal entre X e Y, s'interpreta com la proporció de la variança en la variable depenent que es pot predir a partir de la variable independent.\n",
    "\n",
    "-*Aqui veiem que el model Random Forest es molt millor que els altres models, ja que les mostres s'acosten molt mes a les prediccions.Tantmateix la MSE (mitja cuadràtica) es molt baixa e indica que està molt aprop de la regressió dels punts que veiem. \n",
    "\n"
   ]
  },
  {
   "cell_type": "markdown",
   "id": "b72a87f7",
   "metadata": {},
   "source": [
    "És una bona pràctica utilitzar la validació creuada per comparar els resultats de R2 i MSE en diferents models de regressió, és un enfocament comú utilitzat en l'aprenentatge automàtic per avaluar el rendiment d'un model sobre dades no vistes.\n",
    " Després de cada iteració, puc calcular l'R2 i l'MSE del model al conjunt de proves i després fer una mitjana d'aquestes puntuacions en totes les k iteracions. Això ens donarà una estimació més precisa del rendiment del model amb dades noves i no vistes. Faig una mitja del R2 despres del **Cross Validation** :"
   ]
  },
  {
   "cell_type": "code",
   "execution_count": 20,
   "id": "fbb7eaa3",
   "metadata": {},
   "outputs": [
    {
     "data": {
      "text/html": [
       "<div>\n",
       "<style scoped>\n",
       "    .dataframe tbody tr th:only-of-type {\n",
       "        vertical-align: middle;\n",
       "    }\n",
       "\n",
       "    .dataframe tbody tr th {\n",
       "        vertical-align: top;\n",
       "    }\n",
       "\n",
       "    .dataframe thead th {\n",
       "        text-align: right;\n",
       "    }\n",
       "</style>\n",
       "<table border=\"1\" class=\"dataframe\">\n",
       "  <thead>\n",
       "    <tr style=\"text-align: right;\">\n",
       "      <th></th>\n",
       "      <th>Model</th>\n",
       "      <th>R2</th>\n",
       "      <th>MSE</th>\n",
       "      <th>R2 with CV</th>\n",
       "    </tr>\n",
       "  </thead>\n",
       "  <tbody>\n",
       "    <tr>\n",
       "      <th>0</th>\n",
       "      <td>Linear Regression</td>\n",
       "      <td>0.713935</td>\n",
       "      <td>26.572333</td>\n",
       "      <td>0.426400</td>\n",
       "    </tr>\n",
       "    <tr>\n",
       "      <th>1</th>\n",
       "      <td>Support Vector MACHINES</td>\n",
       "      <td>0.525912</td>\n",
       "      <td>44.037671</td>\n",
       "      <td>0.612125</td>\n",
       "    </tr>\n",
       "    <tr>\n",
       "      <th>2</th>\n",
       "      <td>Random Forest Regressor</td>\n",
       "      <td>0.823981</td>\n",
       "      <td>16.350296</td>\n",
       "      <td>0.243548</td>\n",
       "    </tr>\n",
       "  </tbody>\n",
       "</table>\n",
       "</div>"
      ],
      "text/plain": [
       "                      Model        R2        MSE  R2 with CV\n",
       "0         Linear Regression  0.713935  26.572333    0.426400\n",
       "1   Support Vector MACHINES  0.525912  44.037671    0.612125\n",
       "2   Random Forest Regressor  0.823981  16.350296    0.243548"
      ]
     },
     "execution_count": 20,
     "metadata": {},
     "output_type": "execute_result"
    }
   ],
   "source": [
    "from sklearn.model_selection import cross_val_score\n",
    "\n",
    "cv_lr = cross_val_score(model, X, y, cv=5, scoring='r2')\n",
    "cv_RFR = cross_val_score(model2, X, y, cv=5, scoring='r2')\n",
    "cv_SVR = cross_val_score(Model3, X, y, cv=5, scoring='r2')\n",
    "\n",
    "cv_mean = [cv_lr.mean(),cv_RFR.mean(), cv_SVR.mean()]\n",
    "metrics['R2 with CV'] = cv_mean\n",
    "metrics.head()\n"
   ]
  },
  {
   "cell_type": "markdown",
   "id": "f5e03141",
   "metadata": {},
   "source": [
    "Overfitting happens when a model performs well on the training data but poorly on the testing or new data. \n",
    "To check for overfitting in your trained model, you can use the following approaches:"
   ]
  },
  {
   "cell_type": "markdown",
   "id": "a8857357",
   "metadata": {},
   "source": [
    "Regularization is a technique used to prevent overfitting by adding a penalty term to the loss function.\n",
    "A popular method is L1 or L2 regularization which adds a penalty term that is proportional to the magnitude\n",
    "of the model weights. This technique forces the model to select only the most important features and reduces \n",
    "the magnitude of the weights, reducing the complexity of the model."
   ]
  },
  {
   "cell_type": "code",
   "execution_count": 21,
   "id": "841f4113",
   "metadata": {},
   "outputs": [
    {
     "name": "stdout",
     "output_type": "stream",
     "text": [
      "R2 Ridge:  0.7128441230422995\n",
      "MSE:  26.673686674352528\n",
      "Training RMSE:  4.7737442852096486\n",
      "Testing RMSE:  5.16465745953713\n"
     ]
    }
   ],
   "source": [
    "from sklearn.linear_model import Ridge\n",
    "from sklearn.metrics import mean_squared_error\n",
    "\n",
    "ridge_reg = Ridge(alpha=0.8) # you can adjust the alpha parameter as needed\n",
    "ridge_reg.fit(X_train, y_train)\n",
    "\n",
    "ridge_train_pred = ridge_reg.predict(X_train)\n",
    "ridge_test_pred = ridge_reg.predict(X_test)\n",
    "\n",
    "train_rmse = mean_squared_error(y_train, ridge_train_pred, squared=False)\n",
    "test_rmse = mean_squared_error(y_test, ridge_test_pred, squared=False)\n",
    "\n",
    "r2_Ridge= r2_score(y_test, ridge_test_pred )\n",
    "mse_Ridge = mean_squared_error(y_test, ridge_test_pred)\n",
    "print(\"R2 Ridge: \", r2_Ridge)\n",
    "print(\"MSE: \", mse_Ridge)\n",
    "print(\"Training RMSE: \", train_rmse)\n",
    "print(\"Testing RMSE: \", test_rmse)"
   ]
  },
  {
   "cell_type": "markdown",
   "id": "22aa4433",
   "metadata": {},
   "source": [
    "En aquest cas veig que no millora els resultats."
   ]
  },
  {
   "cell_type": "markdown",
   "id": "38240430",
   "metadata": {},
   "source": [
    "## - Exercici 3\n",
    "- #### Entrena’ls utilitzant els diferents paràmetres que admeten per intentar millorar-ne la predicció."
   ]
  },
  {
   "cell_type": "markdown",
   "id": "53a75c5f",
   "metadata": {},
   "source": [
    "### Mirem els parametres de cada model:"
   ]
  },
  {
   "cell_type": "markdown",
   "id": "c9eaac08",
   "metadata": {},
   "source": [
    "### Definim parametres i modifiquem els possibles valors ###"
   ]
  },
  {
   "cell_type": "markdown",
   "id": "310849be",
   "metadata": {},
   "source": [
    "GridSearchCV es una tecnica per trobar els valors dels hyperparametres optim de un set de parametres\n",
    "en un grid. Es esencialment una tecnica de cross-validation . Has de posar el model i els parametres.\n",
    "Despres de extreure els millors parametres, es fan les prediccions."
   ]
  },
  {
   "cell_type": "code",
   "execution_count": 22,
   "id": "ce826d8f",
   "metadata": {},
   "outputs": [],
   "source": [
    "from sklearn.model_selection import GridSearchCV #Tècnica usada per ajustar hiperparàmetres dels models d'aprenentatge automàtic."
   ]
  },
  {
   "cell_type": "markdown",
   "id": "5e7f0005",
   "metadata": {},
   "source": [
    "#### \"Grid Search és adequat per a la definició dels hiperparàmetres dels models SVM i altres models de classificació, però no té sentit per a models de regressió lineal. Això és perquè la regressió lineal no té hiperparàmetres per ajustar. El model de regressió lineal ajusta els coeficients del model als valors de les variables d'entrada per tal de minimizar l'error quadràtic mitjà.\" \n"
   ]
  },
  {
   "cell_type": "markdown",
   "id": "2f079863",
   "metadata": {},
   "source": [
    "Per tant nomes miraré en aquest cas si els parametres sugerits per GRIDSEARCH, coincideixen amb els parametres utilitzats per el nostre model de **LINEAR REGRESSION**"
   ]
  },
  {
   "cell_type": "code",
   "execution_count": 23,
   "id": "a7c5015e",
   "metadata": {},
   "outputs": [
    {
     "data": {
      "text/plain": [
       "{'copy_X': True,\n",
       " 'fit_intercept': True,\n",
       " 'n_jobs': None,\n",
       " 'normalize': 'deprecated',\n",
       " 'positive': False}"
      ]
     },
     "execution_count": 23,
     "metadata": {},
     "output_type": "execute_result"
    }
   ],
   "source": [
    "model.get_params() #LInear Regression parameters\n"
   ]
  },
  {
   "cell_type": "code",
   "execution_count": 24,
   "id": "bc1d0b16",
   "metadata": {},
   "outputs": [],
   "source": [
    "#definim parametres per LINEAR REGRESSION\n",
    "param_grid = {\n",
    "    'fit_intercept': [True, False],\n",
    "    'copy_X': [True, False],\n",
    "    'positive': [True, False]\n",
    "}"
   ]
  },
  {
   "cell_type": "code",
   "execution_count": 25,
   "id": "1544c916",
   "metadata": {},
   "outputs": [
    {
     "name": "stdout",
     "output_type": "stream",
     "text": [
      "{'copy_X': True, 'fit_intercept': True, 'positive': False}\n"
     ]
    }
   ],
   "source": [
    "grid = GridSearchCV(model, param_grid=param_grid, cv=5)\n",
    "grid.fit(X, y)\n",
    "print(grid.best_params_)"
   ]
  },
  {
   "cell_type": "markdown",
   "id": "6f1bf5e3",
   "metadata": {},
   "source": [
    "Com veiem coincideixen els mateixos valors que ja hem utilitzat amb el nostre model, per tant no te sentit intentar optimitzar-los."
   ]
  },
  {
   "cell_type": "markdown",
   "id": "ba575e6b",
   "metadata": {},
   "source": [
    "Per tant, es millor definir i ajustar parametres per **RANDOM FOREST** ja que també és el que ens ha donat millors resultats:"
   ]
  },
  {
   "cell_type": "code",
   "execution_count": 26,
   "id": "f613a0c6",
   "metadata": {},
   "outputs": [
    {
     "data": {
      "text/plain": [
       "{'bootstrap': True,\n",
       " 'ccp_alpha': 0.0,\n",
       " 'criterion': 'squared_error',\n",
       " 'max_depth': None,\n",
       " 'max_features': 'auto',\n",
       " 'max_leaf_nodes': None,\n",
       " 'max_samples': None,\n",
       " 'min_impurity_decrease': 0.0,\n",
       " 'min_samples_leaf': 1,\n",
       " 'min_samples_split': 2,\n",
       " 'min_weight_fraction_leaf': 0.0,\n",
       " 'n_estimators': 100,\n",
       " 'n_jobs': None,\n",
       " 'oob_score': False,\n",
       " 'random_state': 45,\n",
       " 'verbose': 0,\n",
       " 'warm_start': False}"
      ]
     },
     "execution_count": 26,
     "metadata": {},
     "output_type": "execute_result"
    }
   ],
   "source": [
    "model2.get_params() # parameters Support Vector Machines\n"
   ]
  },
  {
   "cell_type": "code",
   "execution_count": 27,
   "id": "656e6496",
   "metadata": {
    "scrolled": true
   },
   "outputs": [
    {
     "name": "stdout",
     "output_type": "stream",
     "text": [
      "{'max_depth': 20, 'max_features': 'sqrt', 'min_samples_leaf': 1, 'min_samples_split': 2, 'n_estimators': 150}\n"
     ]
    }
   ],
   "source": [
    "#definim parametres per RANDOM FOREST\n",
    "\n",
    "param_gridRF = {\n",
    "    'n_estimators': [50, 100, 150],\n",
    "    'max_features': ['auto', 'sqrt', 'log2'],\n",
    "    'max_depth': [5, 10, 20],\n",
    "    'min_samples_split': [2, 5, 10],\n",
    "    'min_samples_leaf': [1, 2, 4]\n",
    "}\n",
    "grid_RF = GridSearchCV(model2, param_grid=param_gridRF, cv=5)\n",
    "grid_RF.fit(X_train, y_train)\n",
    "print(grid_RF.best_params_)"
   ]
  },
  {
   "cell_type": "code",
   "execution_count": 28,
   "id": "440bccf7",
   "metadata": {},
   "outputs": [
    {
     "name": "stdout",
     "output_type": "stream",
     "text": [
      "RandomForestRegressor(max_depth=20, max_features='sqrt', n_estimators=150,\n",
      "                      random_state=45)\n"
     ]
    }
   ],
   "source": [
    "\n",
    "print(grid_RF.best_estimator_)"
   ]
  },
  {
   "cell_type": "markdown",
   "id": "28c2e837",
   "metadata": {},
   "source": [
    "Repetim el model indicant els parametres:"
   ]
  },
  {
   "cell_type": "code",
   "execution_count": 29,
   "id": "573854ce",
   "metadata": {},
   "outputs": [
    {
     "name": "stdout",
     "output_type": "stream",
     "text": [
      "[0.85449517 0.86859241 0.91141923 0.87296128 0.77761683]\n",
      "La precisió del Training:  97.49688885042765\n",
      "La precisió del testing és:  85.4193417399876\n",
      "La precisió del Model Random Forest Regressor és :  94.82448508039106\n"
     ]
    }
   ],
   "source": [
    "# Entrenem el model a les dades d'entrenament amb fit i els millors parametres\n",
    "model2_bp = RandomForestRegressor(random_state=45,max_depth=10, max_features='sqrt', min_samples_leaf=1, min_samples_split=2, n_estimators=50).fit(X_train,y_train)\n",
    "\n",
    "y_pred_RFRbp = model2_bp.predict(X_test)\n",
    "scoresRFRbp = cross_val_score(\n",
    "            estimator=model2_bp, \n",
    "            X=X_train, \n",
    "            y=y_train, \n",
    "            cv=5,\n",
    ")\n",
    "\n",
    "\n",
    "print(scoresRFRbp) #miro la puntuació en 5 seccions diferents\n",
    "print('La precisió del Training: ',model2_bp.score(X_train, y_train)*100)\n",
    "print(\"La precisió del testing és: \", model2_bp.score(X_test, y_test)*100)\n",
    "print(\"La precisió del Model Random Forest Regressor és : \", r2_score(y, model2_bp.predict(X))*100)\n"
   ]
  },
  {
   "cell_type": "code",
   "execution_count": 30,
   "id": "3508ee9e",
   "metadata": {},
   "outputs": [
    {
     "data": {
      "image/png": "[encoded data removed]",
      "text/plain": [
       "<Figure size 720x360 with 2 Axes>"
      ]
     },
     "metadata": {
      "needs_background": "light"
     },
     "output_type": "display_data"
    }
   ],
   "source": [
    "fig, (ax1, ax2) = plt.subplots(1, 2, figsize=(10, 5))\n",
    "\n",
    "# Gràfic 1\n",
    "ax1.scatter(y_train, model2.predict(X_train), c='red', label='Actual', cmap='viridis')\n",
    "ax1.scatter(model2.predict(X_test), y_pred_RFR, c='blue', label='Predicted', cmap='viridis')\n",
    "ax1.set_xlabel(\"Preus\")\n",
    "ax1.set_ylabel(\"Preus predictius\")\n",
    "ax1.set_title(\"Preus vs Prediccions de preu\")\n",
    "\n",
    "# Gràfic 2\n",
    "ax2.scatter(y_train, model2_bp.predict(X_train), c='red', label='Actual', cmap='viridis')\n",
    "ax2.scatter(model2_bp.predict(X_test), y_pred_RFRbp, c='blue', label='Predicted', cmap='viridis')\n",
    "ax2.set_xlabel(\"Preus\")\n",
    "ax2.set_ylabel(\"Preus predictius\")\n",
    "ax2.set_title(\"Preus vs Prediccions de preu amb parametres ajustats\")\n",
    "\n",
    "plt.show()"
   ]
  },
  {
   "cell_type": "markdown",
   "id": "ea0e4c3f",
   "metadata": {},
   "source": [
    "Veiem que la precisió del testing i del model en si,  ha millorat pero encara demostra un overfitting important."
   ]
  },
  {
   "cell_type": "markdown",
   "id": "7b1e5d02",
   "metadata": {},
   "source": [
    "També mirem si ajustant parametres per **SUPPORT VECTOR MACHINES** milloren els resultats:"
   ]
  },
  {
   "cell_type": "code",
   "execution_count": 31,
   "id": "60f2238c",
   "metadata": {},
   "outputs": [
    {
     "data": {
      "text/plain": [
       "{'C': 1.0,\n",
       " 'cache_size': 200,\n",
       " 'coef0': 0.0,\n",
       " 'degree': 3,\n",
       " 'epsilon': 0.1,\n",
       " 'gamma': 'scale',\n",
       " 'kernel': 'rbf',\n",
       " 'max_iter': -1,\n",
       " 'shrinking': True,\n",
       " 'tol': 0.001,\n",
       " 'verbose': False}"
      ]
     },
     "execution_count": 31,
     "metadata": {},
     "output_type": "execute_result"
    }
   ],
   "source": [
    "Model3.get_params() # parameters Support Vector Machines "
   ]
  },
  {
   "cell_type": "code",
   "execution_count": 32,
   "id": "1ed8618f",
   "metadata": {},
   "outputs": [],
   "source": [
    "from sklearn.svm import SVC\n",
    "param_gridSVM = {\n",
    "    'kernel' : ('linear', 'poly', 'rbf', 'sigmoid'),\n",
    "    'C' : [1,5,10],\n",
    "    'degree' : [3,8],\n",
    "    'coef0' : [0.01,10,0.5],\n",
    "    'gamma' : ('auto','scale')\n",
    "}"
   ]
  },
  {
   "cell_type": "code",
   "execution_count": null,
   "id": "8fa3f9a8",
   "metadata": {},
   "outputs": [],
   "source": [
    "\n",
    "SVMsearch = RandomizedSearchCV(estimator=Model3,\n",
    "                             param_distributions=param_gridSVM,cv=5,\n",
    "                             n_iter=10,random_state=45,scoring='r2')\n",
    "SVMsearch.fit(X, y)\n",
    "print(SVMsearch.best_score_)\n",
    "print(SVMsearch.best_params_)\n"
   ]
  },
  {
   "cell_type": "code",
   "execution_count": null,
   "id": "4f9512c8",
   "metadata": {},
   "outputs": [],
   "source": [
    "# Entrenem el model a les dades d'entrenament amb fit i els millors parametres\n",
    "Model3_bp = SVR(kernel='rbf', gamma='auto',degree= 8,coef0= 0.5,C= 10).fit(X_train,y_train)\n",
    "\n",
    "y_pred_SVRbp = Model3_bp.predict(X_test)\n",
    "scoresSVRbp = cross_val_score(\n",
    "            estimator=Model3_bp, \n",
    "            X=X_train, \n",
    "            y=y_train, \n",
    "            cv=5,\n",
    ")\n",
    "\n",
    "print(scoresSVRbp) #miro la puntuació en 5 seccions diferents\n",
    "print('La precisió del Training: ',Model3_bp.score(X_train, y_train)*100)\n",
    "print(\"La precisió del testing és: \", Model3_bp.score(X_test, y_test)*100)\n",
    "print(\"La precisió del Model Support Vector Machines és : \", r2_score(y, Model3_bp.predict(X))*100)"
   ]
  },
  {
   "cell_type": "markdown",
   "id": "b8dca661",
   "metadata": {},
   "source": [
    "Veiem també que amb SVM també millora molt la precisió i per tant les prediccions. Veiem-ho gràficament:\n",
    "    "
   ]
  },
  {
   "cell_type": "code",
   "execution_count": null,
   "id": "24a5576e",
   "metadata": {},
   "outputs": [],
   "source": [
    "fig, (ax1, ax2) = plt.subplots(1, 2, figsize=(10, 5))\n",
    "\n",
    "# Gràfic 1\n",
    "ax1.scatter(y_train, Model3.predict(X_train), c='red', label='Actual', cmap='viridis')\n",
    "ax1.scatter(Model3.predict(X_test), y_pred_svr, c='blue', label='Predicted', cmap='viridis')\n",
    "ax1.set_xlabel(\"Preus\")\n",
    "ax1.set_ylabel(\"Preus predictius\")\n",
    "ax1.set_title(\"Preus vs Prediccions de preu\")\n",
    "\n",
    "\n",
    "# Gràfic 2\n",
    "ax2.scatter(y_train, Model3_bp.predict(X_train), c='red', label='Actual', cmap='viridis')\n",
    "ax2.scatter(Model3_bp.predict(X_test), y_pred_SVRbp, c='blue', label='Predicted', cmap='viridis')\n",
    "ax2.set_xlabel(\"Preus\")\n",
    "ax2.set_ylabel(\"Preus predictius\")\n",
    "ax2.set_title(\"Preus vs Prediccions de preu amb parametres ajustats\")\n",
    "\n",
    "plt.show()"
   ]
  },
  {
   "cell_type": "markdown",
   "id": "62d195b7",
   "metadata": {},
   "source": [
    "Veiem clarament com ara les prediccions s'acosten molt mes a la mostra."
   ]
  },
  {
   "cell_type": "markdown",
   "id": "645c54f7",
   "metadata": {},
   "source": [
    "## Exercici 4"
   ]
  },
  {
   "cell_type": "markdown",
   "id": "d1045243",
   "metadata": {},
   "source": [
    "- #### Compara el seu rendiment emprant l’aproximació train/test o emprant totes les dades (validació interna)."
   ]
  },
  {
   "cell_type": "code",
   "execution_count": null,
   "id": "26dd9fce",
   "metadata": {},
   "outputs": [],
   "source": [
    "# Rendiment Linear Regression\n",
    "scoresLR = cross_val_score(\n",
    "            estimator=model, \n",
    "            X=X_train, \n",
    "            y=y_train, \n",
    "            cv=5,\n",
    ")\n",
    "scoresLRxy = cross_val_score(\n",
    "            estimator=model, \n",
    "            X=X, \n",
    "            y=y, \n",
    "            cv=5,\n",
    ")\n",
    "print(np.mean(scoresLR))#miro la mitja de la puntuació en 5 seccions diferents\n",
    "print(np.mean(scoresLRxy))#miro la mitja de la puntuació en 5 seccions diferents de tota la bdd"
   ]
  },
  {
   "cell_type": "code",
   "execution_count": null,
   "id": "1b9054d9",
   "metadata": {},
   "outputs": [],
   "source": [
    "# Rendiment Random Forest Regression\n",
    "scoresRFRbp = cross_val_score(\n",
    "            estimator=model2_bp, \n",
    "            X=X_train, \n",
    "            y=y_train, \n",
    "            cv=5,\n",
    ")\n",
    "scoresRFRbpxy = cross_val_score(\n",
    "            estimator=model2_bp, \n",
    "            X=X, \n",
    "            y=y, \n",
    "            cv=5,\n",
    ")\n",
    "print(np.mean(scoresRFRbp))#miro la mitja de la puntuació en 5 seccions diferents\n",
    "print(np.mean(scoresRFRbpxy)) #miro la mitja de la puntuació en 5 seccions diferents de tota la bdd"
   ]
  },
  {
   "cell_type": "code",
   "execution_count": null,
   "id": "d0fd2ae2",
   "metadata": {},
   "outputs": [],
   "source": [
    "# Rendiment Support Vector Machines\n",
    "scoresSVRbp = cross_val_score(\n",
    "            estimator=Model3_bp, \n",
    "            X=X_train, \n",
    "            y=y_train, \n",
    "            cv=5,\n",
    ")\n",
    "scoresSVRbpxy = cross_val_score(\n",
    "            estimator=Model3_bp, \n",
    "            X=X, \n",
    "            y=y, \n",
    "            cv=5,\n",
    ")\n",
    "print(np.mean(scoresSVRbp))\n",
    "print(np.mean(scoresSVRbpxy))"
   ]
  },
  {
   "cell_type": "markdown",
   "id": "2b83ad0c",
   "metadata": {},
   "source": [
    "En tots els casos el rendiment sempre es millor emprant el train test i Random Forest segueix donant la millor predicció.\n",
    "També hem vist en el Exercici 2 comparant el R2 amb el Cross Validation per X e Y que donava millor rendiment amb les dades de train."
   ]
  },
  {
   "cell_type": "markdown",
   "id": "cb759bbb",
   "metadata": {},
   "source": [
    "## Exercici 5"
   ]
  },
  {
   "cell_type": "markdown",
   "id": "dcefa779",
   "metadata": {},
   "source": [
    "- #### No facis servir la variable del nombre d'habitacions (RM) a l’hora de fer prediccions."
   ]
  },
  {
   "cell_type": "code",
   "execution_count": null,
   "id": "5e3f6283",
   "metadata": {},
   "outputs": [],
   "source": [
    "from sklearn.model_selection import train_test_split\n",
    "import pandas as pd\n",
    "\n",
    "# Separo la bdd entre features i target posant al eix Y el target, no considero les variables categòriques RAD i CHAS\n",
    "features = ['CRIM', 'ZN', 'INDUS', 'NOX', 'AGE', 'DIS', 'TAX', 'PTRATIO', 'B', 'LSTAT']\n",
    "target = ['MEDV']\n",
    "A = HousingBoston_transf[features]\n",
    "b = HousingBoston_transf[target]"
   ]
  },
  {
   "cell_type": "code",
   "execution_count": null,
   "id": "d75cc9ef",
   "metadata": {},
   "outputs": [],
   "source": [
    "A_train, A_test, b_train, b_test = train_test_split(A, b, test_size=0.2, random_state=45)"
   ]
  },
  {
   "cell_type": "markdown",
   "id": "41a0cf4b",
   "metadata": {},
   "source": [
    "Miro la diferencia en les prediccions sense aquesta variable en el model de Random Forest ja que és el que ha donat millors resultats:"
   ]
  },
  {
   "cell_type": "code",
   "execution_count": null,
   "id": "bdd46f8d",
   "metadata": {},
   "outputs": [],
   "source": [
    "modelRF = RandomForestRegressor(max_depth=10, max_features='sqrt', min_samples_leaf=1,min_samples_split=2, n_estimators=50 )\n",
    "\n",
    "\n",
    "modelRF.fit(A_train, b_train)\n",
    "y_pred_RF = modelRF.predict(A_test)\n",
    "print('La precisió del training és: ', modelRF.score(A_train, b_train)*100)\n",
    "print(\"La precisió del testing és: \", modelRF.score(A_test, b_test)*100)\n",
    "print(\"La precisió del Model de Random Forest és : \", r2_score(b, modelRF.predict(A))*100)\n"
   ]
  },
  {
   "cell_type": "code",
   "execution_count": null,
   "id": "15941101",
   "metadata": {},
   "outputs": [],
   "source": [
    "\n",
    "fig, (ax1, ax2, ax3) = plt.subplots(1, 3, figsize=(15, 10))\n",
    "\n",
    "# Gràfic 1\n",
    "ax1.scatter(y_train, model2.predict(X_train), c='red', label='Actual', cmap='viridis')\n",
    "ax1.scatter(model2.predict(X_test), y_pred_RFR, c='blue', label='Predicted', cmap='viridis')\n",
    "ax1.set_xlabel(\"Preus\")\n",
    "ax1.set_ylabel(\"Preus predictius\")\n",
    "ax1.set_title(\"Preus vs Prediccions de preu\")\n",
    "\n",
    "# Gràfic 2\n",
    "ax2.scatter(y_train, model2_bp.predict(X_train), c='red', label='Actual', cmap='viridis')\n",
    "ax2.scatter(model2_bp.predict(X_test), y_pred_RFRbp, c='blue', label='Predicted', cmap='viridis')\n",
    "ax2.set_xlabel(\"Preus\")\n",
    "ax2.set_ylabel(\"Preus predictius\")\n",
    "ax2.set_title(\"Preus vs Prediccions de preu amb parametres ajustats\")\n",
    "\n",
    "# Gràfic 3\n",
    "ax3.scatter(b_train, modelRF.predict(A_train), c='red', label='Actual', cmap='viridis')\n",
    "ax3.scatter(modelRF.predict(A_test), y_pred_RF, c='blue', label='Predicted', cmap='viridis')\n",
    "ax3.set_xlabel(\"Preus\")\n",
    "ax3.set_ylabel(\"Preus predictius\")\n",
    "ax3.set_title(\"Preus vs Prediccions de preu amb parametres ajustats i sense RM\")\n",
    "plt.show()\n"
   ]
  },
  {
   "cell_type": "markdown",
   "id": "10543ee7",
   "metadata": {},
   "source": [
    "Podem veure que dona pitjors resultats alhora de fer prediccions ja que com hem vist en el exercici anterior,\n",
    "la variable RM es una de les variables mes correlacionades amb el Target ja que el nombre d'habitacions es un indicador del preu de la casa."
   ]
  },
  {
   "cell_type": "code",
   "execution_count": null,
   "id": "50556187",
   "metadata": {},
   "outputs": [],
   "source": []
  }
 ],
 "metadata": {
  "kernelspec": {
   "display_name": "Python 3 (ipykernel)",
   "language": "python",
   "name": "python3"
  },
  "language_info": {
   "codemirror_mode": {
    "name": "ipython",
    "version": 3
   },
   "file_extension": ".py",
   "mimetype": "text/x-python",
   "name": "python",
   "nbconvert_exporter": "python",
   "pygments_lexer": "ipython3",
   "version": "3.9.12"
  }
 },
 "nbformat": 4,
 "nbformat_minor": 5
}
